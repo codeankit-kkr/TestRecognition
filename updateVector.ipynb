{
 "cells": [
  {
   "cell_type": "code",
   "execution_count": 6,
   "metadata": {},
   "outputs": [
    {
     "name": "stderr",
     "output_type": "stream",
     "text": [
      "Copying file://.\\..\\incrementalData.json [Content-Type=application/json]...\n",
      "/ [0 files][    0.0 B/103.5 KiB]                                                \n",
      "/ [0 files][103.5 KiB/103.5 KiB]                                                \n",
      "-\n",
      "- [1 files][103.5 KiB/103.5 KiB]                                                \n",
      "\n",
      "Operation completed over 1 objects/103.5 KiB.                                    \n"
     ]
    }
   ],
   "source": [
    "BUCKET_URI=\"gs://mtm-dog-face-recognition\"\n",
    "EMBEDDINGS_UPDATE_URI = f\"{BUCKET_URI}/incrementalVectors/\"\n",
    "\n",
    "! gsutil cp ./../incrementalData.json {EMBEDDINGS_UPDATE_URI}"
   ]
  },
  {
   "cell_type": "code",
   "execution_count": null,
   "metadata": {},
   "outputs": [],
   "source": [
    "pip install google-cloud-aiplatform"
   ]
  },
  {
   "cell_type": "code",
   "execution_count": null,
   "metadata": {},
   "outputs": [],
   "source": [
    "from google.cloud import aiplatform\n",
    "INDEX_RESOURCE_NAME = \"Dog-Face-Data\"\n",
    "tree_ah_index = aiplatform.MatchingEngineIndex(index_name=INDEX_RESOURCE_NAME)\n",
    "EMBEDDINGS_UPDATE_URI = f\"{BUCKET_URI}/incrementalVectors/\"\n",
    "tree_ah_index = tree_ah_index.update_embeddings(\n",
    "    contents_delta_uri=EMBEDDINGS_UPDATE_URI,\n",
    ")\n",
    "    "
   ]
  },
  {
   "cell_type": "code",
   "execution_count": 14,
   "metadata": {},
   "outputs": [
    {
     "name": "stdout",
     "output_type": "stream",
     "text": [
      "Upserting datapoints MatchingEngineIndex index: projects/906999370273/locations/asia-south1/indexes/507077170544246784\n",
      "MatchingEngineIndex index Upserted datapoints. Resource name: projects/906999370273/locations/asia-south1/indexes/507077170544246784\n"
     ]
    }
   ],
   "source": [
    "from google.cloud import aiplatform,aiplatform_v1\n",
    "\n",
    "def stream_update_vector_search_index(\n",
    "    project: str, location: str, index_name: str, datapoints\n",
    ") -> None:\n",
    "\n",
    "    aiplatform.init(project=project, location=location)\n",
    "\n",
    "    my_index = aiplatform.MatchingEngineIndex(index_name=index_name)\n",
    "    # datapoints = []\n",
    "    # datapoints.append(aiplatform_v1.IndexDatapoint(\n",
    "    #     datapoint_id=datapoint['id'],\n",
    "    #     feature_vector=datapoint['embedding'],\n",
    "    #     restricts=datapoint['restricts']\n",
    "    # ))\n",
    "    my_index.upsert_datapoints(datapoints=datapoints)\n",
    "\n",
    "stream_update_vector_search_index(\n",
    "    \"906999370273\",\n",
    "    \"asia-south1\",\n",
    "    \"507077170544246784\",\n",
    "    {\n",
    "        \"id\": \"2507\",\n",
    "        \"embedding\": [-0.16596636176109314, -0.09194015711545944, 0.0691675990819931, -0.26146000623703003, -0.054516665637493134, -0.20306174457073212, 0.09274547547101974, 0.03260495141148567, 0.08371666818857193, 0.14955493807792664, -0.11227752268314362, 0.12325003743171692, 0.04191010445356369, 0.028249097988009453, 0.20742136240005493, -0.16503232717514038, 0.1266220360994339, 0.04051575809717178, -0.2129288762807846, 0.21640387177467346, -0.2892351746559143, 0.049249500036239624, -0.20917144417762756, -0.2445465624332428, 0.161748468875885, 0.11964072287082672, -0.29267778992652893, -0.4854455888271332, -0.08254919946193695, -0.16928166151046753, 0.003849612083286047, -0.10118353366851807],\n",
    "        \"restricts\": [{\"namespace\": \"geoHash\", \"allow_list\": [\"9q9hvumpq\"]}]\n",
    "    }\n",
    ")\n"
   ]
  }
 ],
 "metadata": {
  "kernelspec": {
   "display_name": "Python 3",
   "language": "python",
   "name": "python3"
  },
  "language_info": {
   "codemirror_mode": {
    "name": "ipython",
    "version": 3
   },
   "file_extension": ".py",
   "mimetype": "text/x-python",
   "name": "python",
   "nbconvert_exporter": "python",
   "pygments_lexer": "ipython3",
   "version": "3.11.7"
  }
 },
 "nbformat": 4,
 "nbformat_minor": 2
}
